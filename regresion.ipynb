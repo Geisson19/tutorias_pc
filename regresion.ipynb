{
 "cells": [
  {
   "cell_type": "code",
   "execution_count": 8,
   "metadata": {},
   "outputs": [
    {
     "data": {
      "text/plain": [
       "Text(0, 0.5, 'Record de series de levantimiento de pesas de 90kg')"
      ]
     },
     "execution_count": 8,
     "metadata": {},
     "output_type": "execute_result"
    },
    {
     "data": {
      "image/png": "[encoded data removed]",
      "text/plain": [
       "<Figure size 432x288 with 1 Axes>"
      ]
     },
     "metadata": {
      "needs_background": "light"
     },
     "output_type": "display_data"
    }
   ],
   "source": [
    "import matplotlib.pyplot as plt\n",
    "import numpy as np\n",
    "\n",
    "x_obs = np.array([2002, 2003, 2004, 2005, 2006, 2007])\n",
    "y_obs = np.array([100 , 110 , 114 , 115 , 116 , 120])\n",
    "\n",
    "plt.plot(x_obs, y_obs, \".\")\n",
    "plt.xlabel(\"Años\")\n",
    "plt.ylabel(\"Record de series de levantimiento de pesas de 90kg\")\n",
    "\n"
   ]
  },
  {
   "cell_type": "code",
   "execution_count": 9,
   "metadata": {},
   "outputs": [],
   "source": [
    "# Tamaño de x y tamño de y también\n",
    "N = len(x_obs)\n",
    "\n",
    "# 1\n",
    "x_promedio = x_obs.mean()\n",
    "\n",
    "# 2\n",
    "y_promedio = y_obs.mean()\n",
    "\n",
    "# 3. Suma promedio de cuadrados de xi\n",
    "sc = 0\n",
    "for i in range(N):\n",
    "  sc += x_obs[i]**2\n",
    "scp = sc / N\n",
    "\n",
    "# 4. Suma de productos de valores observados\n",
    "sobs = 0\n",
    "for i in range(N):\n",
    "  sobs += x_obs[i]*y_obs[i]\n",
    "sobsp = sobs/N"
   ]
  },
  {
   "cell_type": "code",
   "execution_count": 11,
   "metadata": {},
   "outputs": [],
   "source": [
    " \n",
    "A = np.array(\n",
    "  [[1,   x_promedio],\n",
    "   [x_promedio, scp]])\n",
    "\n",
    "b = np.array(\n",
    "  [[y_promedio],\n",
    "   [sobsp     ]]\n",
    ")"
   ]
  },
  {
   "cell_type": "code",
   "execution_count": 12,
   "metadata": {},
   "outputs": [
    {
     "name": "stdout",
     "output_type": "stream",
     "text": [
      "[[1.00000000e+00 2.00450000e+03]\n",
      " [2.00450000e+03 4.01802317e+06]]\n"
     ]
    }
   ],
   "source": [
    "print(A)"
   ]
  },
  {
   "cell_type": "code",
   "execution_count": 13,
   "metadata": {},
   "outputs": [
    {
     "name": "stdout",
     "output_type": "stream",
     "text": [
      "[[1.12500000e+02]\n",
      " [2.25516167e+05]]\n"
     ]
    }
   ],
   "source": [
    "print(b)"
   ]
  },
  {
   "cell_type": "code",
   "execution_count": 14,
   "metadata": {},
   "outputs": [],
   "source": [
    "x = np.linalg.solve(A, b)\n",
    "# x es [[c0], [c1]]"
   ]
  },
  {
   "cell_type": "code",
   "execution_count": 15,
   "metadata": {},
   "outputs": [
    {
     "name": "stdout",
     "output_type": "stream",
     "text": [
      "[[-6.7028e+03]\n",
      " [ 3.4000e+00]]\n"
     ]
    }
   ],
   "source": [
    "print(x)"
   ]
  },
  {
   "cell_type": "code",
   "execution_count": 20,
   "metadata": {},
   "outputs": [
    {
     "name": "stdout",
     "output_type": "stream",
     "text": [
      "[104.  107.4 110.8 114.2 117.6 121. ]\n"
     ]
    }
   ],
   "source": [
    "c0 = x[0]\n",
    "c1 = x[1]\n",
    "\n",
    "y = c0 + c1*x_obs # nuestra hipotesis\n",
    "\n",
    "print(y)"
   ]
  },
  {
   "cell_type": "code",
   "execution_count": 22,
   "metadata": {},
   "outputs": [
    {
     "data": {
      "text/plain": [
       "Text(0, 0.5, 'Record de series de levantimiento de pesas de 90kg')"
      ]
     },
     "execution_count": 22,
     "metadata": {},
     "output_type": "execute_result"
    },
    {
     "data": {
      "image/png": "[encoded data removed]",
      "text/plain": [
       "<Figure size 432x288 with 1 Axes>"
      ]
     },
     "metadata": {
      "needs_background": "light"
     },
     "output_type": "display_data"
    }
   ],
   "source": [
    "plt.plot(x_obs, y_obs, \".\")\n",
    "plt.plot(x_obs, y, \"r\")\n",
    "plt.xlabel(\"Años\")\n",
    "plt.ylabel(\"Record de series de levantimiento de pesas de 90kg\")"
   ]
  }
 ],
 "metadata": {
  "kernelspec": {
   "display_name": "Python 3.9.7 ('base')",
   "language": "python",
   "name": "python3"
  },
  "language_info": {
   "codemirror_mode": {
    "name": "ipython",
    "version": 3
   },
   "file_extension": ".py",
   "mimetype": "text/x-python",
   "name": "python",
   "nbconvert_exporter": "python",
   "pygments_lexer": "ipython3",
   "version": "3.9.7"
  },
  "orig_nbformat": 4,
  "vscode": {
   "interpreter": {
    "hash": "87c9dc14a8702630cf8e370245ea9cc170adea7a80956ac0a5a1ba43b0242ffc"
   }
  }
 },
 "nbformat": 4,
 "nbformat_minor": 2
}
