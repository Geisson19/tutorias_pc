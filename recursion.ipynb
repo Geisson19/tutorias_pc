{
 "cells": [
  {
   "cell_type": "markdown",
   "metadata": {},
   "source": [
    "### Función recursiva para calcular el valor \"n\" de la sucesión de fibonacci"
   ]
  },
  {
   "cell_type": "code",
   "execution_count": null,
   "metadata": {},
   "outputs": [],
   "source": [
    "\n",
    "def fibonacci(n: int) -> int:"
   ]
  },
  {
   "cell_type": "markdown",
   "metadata": {},
   "source": [
    "1. Definir casos base\n",
    "2. Definir función recursiva"
   ]
  },
  {
   "cell_type": "markdown",
   "metadata": {},
   "source": [
    "## Casos base:\n",
    "- nuestro \"n\" es 0\n",
    "- nuestro \"n\" es 1"
   ]
  },
  {
   "cell_type": "code",
   "execution_count": 1,
   "metadata": {},
   "outputs": [],
   "source": [
    "def fibonacci(n: int) -> int:\n",
    "\n",
    "  # n tiene ser mayor que 0\n",
    "  if n <= 0:\n",
    "    return -1\n",
    "\n",
    "  # Casos base\n",
    "  if n == 1:\n",
    "    return 0\n",
    "\n",
    "  if n == 2:\n",
    "    return 1\n",
    "  \n",
    "  # Función recursiva\n",
    "  return fibonacci(n - 1) + fibonacci(n - 2)\n"
   ]
  },
  {
   "cell_type": "markdown",
   "metadata": {},
   "source": [
    "### La recursión se almacena en el recursion heap\n",
    "### python recursion heap = 10000"
   ]
  },
  {
   "cell_type": "code",
   "execution_count": 2,
   "metadata": {},
   "outputs": [
    {
     "name": "stdout",
     "output_type": "stream",
     "text": [
      "8\n",
      "13\n"
     ]
    }
   ],
   "source": [
    "print(fibonacci(7))\n",
    "## 8\n",
    "\n",
    "print(fibonacci(8))\n",
    "## 13"
   ]
  },
  {
   "cell_type": "code",
   "execution_count": 5,
   "metadata": {},
   "outputs": [],
   "source": [
    "def fibonacci_no_casos_base(n: int) -> int:\n",
    "  \n",
    "  # Función recursiva\n",
    "  return fibonacci(n - 1) + fibonacci(n - 2)\n"
   ]
  },
  {
   "cell_type": "code",
   "execution_count": null,
   "metadata": {},
   "outputs": [
    {
     "ename": "",
     "evalue": "",
     "output_type": "error",
     "traceback": [
      "\u001b[1;31mCanceled future for execute_request message before replies were done"
     ]
    },
    {
     "ename": "",
     "evalue": "",
     "output_type": "error",
     "traceback": [
      "\u001b[1;31mEl Kernel se bloqueó al ejecutar código en la celda actual o en una celda anterior. Revise el código de las celdas para identificar una posible causa del error. Haga clic <a href='https://aka.ms/vscodeJupyterKernelCrash'>aquí</a> para obtener más información. Vea el [registro] de Jupyter (command:jupyter.viewOutput) para obtener más detalles."
     ]
    }
   ],
   "source": [
    "fibonacci_no_casos_base(10)"
   ]
  },
  {
   "cell_type": "markdown",
   "metadata": {},
   "source": [
    "### Función que calcula el valor binario de un número decimal de forma recursiva"
   ]
  },
  {
   "cell_type": "markdown",
   "metadata": {},
   "source": [
    "1. Caso(s) base\n",
    "2. Función recursiva"
   ]
  },
  {
   "cell_type": "markdown",
   "metadata": {},
   "source": [
    "## Crear una función recursiva que calcule el factorial de un número"
   ]
  },
  {
   "cell_type": "code",
   "execution_count": 2,
   "metadata": {},
   "outputs": [],
   "source": [
    "import math\n",
    "\n",
    "# Escriba la serie de taylor de la función exponencial como serie de Maclaurin\n",
    "def exp(x, n = 50):\n",
    "\n",
    "  # 1. Casos base\n",
    "\n",
    "  # Truco: Cuando empiece en n=0, ponemos en ese caso la definición simple de la serie\n",
    "  if n == 0:\n",
    "    return (x ** n)/math.factorial(n)\n",
    "\n",
    "  return ((x ** n)/math.factorial(n)) + exp(x, n - 1)\n"
   ]
  },
  {
   "cell_type": "code",
   "execution_count": 5,
   "metadata": {},
   "outputs": [
    {
     "name": "stdout",
     "output_type": "stream",
     "text": [
      "Nuestro resultado             : 2.7182818284590455\n",
      "Resultado de la librería Math : 2.718281828459045\n"
     ]
    }
   ],
   "source": [
    "print(\"Nuestro resultado             : {}\".format(exp(1)))\n",
    "print(\"Resultado de la librería Math : {}\".format(math.exp(1)))"
   ]
  }
 ],
 "metadata": {
  "kernelspec": {
   "display_name": "Python 3.9.7 ('base')",
   "language": "python",
   "name": "python3"
  },
  "language_info": {
   "codemirror_mode": {
    "name": "ipython",
    "version": 3
   },
   "file_extension": ".py",
   "mimetype": "text/x-python",
   "name": "python",
   "nbconvert_exporter": "python",
   "pygments_lexer": "ipython3",
   "version": "3.9.7"
  },
  "orig_nbformat": 4,
  "vscode": {
   "interpreter": {
    "hash": "87c9dc14a8702630cf8e370245ea9cc170adea7a80956ac0a5a1ba43b0242ffc"
   }
  }
 },
 "nbformat": 4,
 "nbformat_minor": 2
}
